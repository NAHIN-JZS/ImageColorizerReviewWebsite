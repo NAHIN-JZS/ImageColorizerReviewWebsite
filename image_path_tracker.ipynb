{
 "cells": [
  {
   "cell_type": "code",
   "execution_count": 2,
   "metadata": {},
   "outputs": [
    {
     "ename": "ModuleNotFoundError",
     "evalue": "No module named 'pandas'",
     "output_type": "error",
     "traceback": [
      "\u001b[1;31m---------------------------------------------------------------------------\u001b[0m",
      "\u001b[1;31mModuleNotFoundError\u001b[0m                       Traceback (most recent call last)",
      "Cell \u001b[1;32mIn [2], line 2\u001b[0m\n\u001b[0;32m      1\u001b[0m \u001b[39mfrom\u001b[39;00m \u001b[39mos\u001b[39;00m \u001b[39mimport\u001b[39;00m listdir\n\u001b[1;32m----> 2\u001b[0m \u001b[39mimport\u001b[39;00m \u001b[39mpandas\u001b[39;00m \u001b[39mas\u001b[39;00m \u001b[39mpd\u001b[39;00m\n\u001b[0;32m      4\u001b[0m \u001b[39m# This function will create a list of image path\u001b[39;00m\n\u001b[0;32m      5\u001b[0m \u001b[39mdef\u001b[39;00m \u001b[39mgenerate_image_path_list\u001b[39m(folder_name):\n\u001b[0;32m      6\u001b[0m   \u001b[39m# path_list = list() \u001b[39;00m\n\u001b[0;32m      7\u001b[0m   \u001b[39m# index_list = list()\u001b[39;00m\n\u001b[0;32m      8\u001b[0m   \u001b[39m# count_list = list()\u001b[39;00m\n",
      "\u001b[1;31mModuleNotFoundError\u001b[0m: No module named 'pandas'"
     ]
    }
   ],
   "source": [
    "from os import listdir\n",
    "import pandas as pd\n",
    "\n",
    "# This function will create a list of image path\n",
    "def generate_image_path_list(folder_name):\n",
    "  # path_list = list() \n",
    "  # index_list = list()\n",
    "  # count_list = list()\n",
    "  content = list()\n",
    "  i = 0\n",
    "  for filename in listdir(folder_name):\n",
    "    # path_list.append(filename)\n",
    "    # index_list.append(i)\n",
    "    # content.append((i*(-1)**i,i,filename))\n",
    "    content.append((0,i,filename))\n",
    "    i = i + 1\n",
    "    # count_list.append(0)\n",
    "\n",
    "  # return path_list,index_list,count_list\n",
    "  return content\n",
    "\n",
    "# path_list,index_list,count_list = generate_image_path_list('D:/Thesis/data/test/')\n",
    "con = generate_image_path_list('D:/Thesis/data/test/')\n",
    "# print(path_list,index_list,count_list)\n",
    "print(con)\n",
    "\n",
    "# df = pd.to_csv(path)"
   ]
  },
  {
   "cell_type": "code",
   "execution_count": 55,
   "metadata": {},
   "outputs": [],
   "source": [
    "# path_pd = pd.DataFrame([index_list],[path_list, count_list],columns=['id','path','count'])\n",
    "path_pd = pd.DataFrame(con,columns=['id','path','count'])"
   ]
  },
  {
   "cell_type": "code",
   "execution_count": 56,
   "metadata": {},
   "outputs": [],
   "source": [
    "path_pd.to_csv('C:/xampp/htdocs/ImageColorization/path.csv',index = False)"
   ]
  },
  {
   "cell_type": "code",
   "execution_count": 57,
   "metadata": {},
   "outputs": [],
   "source": [
    "rev = pd.read_csv('C:/xampp/htdocs/ImageColorization/path.csv')"
   ]
  },
  {
   "cell_type": "code",
   "execution_count": 58,
   "metadata": {},
   "outputs": [],
   "source": [
    "rev_list = rev.values.tolist()"
   ]
  },
  {
   "cell_type": "code",
   "execution_count": 59,
   "metadata": {},
   "outputs": [],
   "source": [
    "rev_list.sort()"
   ]
  },
  {
   "cell_type": "code",
   "execution_count": 68,
   "metadata": {},
   "outputs": [
    {
     "data": {
      "text/plain": [
       "'2007_000039.jpg'"
      ]
     },
     "execution_count": 68,
     "metadata": {},
     "output_type": "execute_result"
    }
   ],
   "source": [
    "rev_list[3][2]"
   ]
  },
  {
   "cell_type": "code",
   "execution_count": 70,
   "metadata": {},
   "outputs": [
    {
     "name": "stdout",
     "output_type": "stream",
     "text": [
      "[\"id0\", \"id1\", \"id2\"]\n"
     ]
    }
   ],
   "source": [
    "import json\n",
    "import pandas as pd\n",
    "path_csv = pd.read_csv('C:/xampp/htdocs/ImageColorization/path.csv')\n",
    "path_list = path_csv.values.tolist()\n",
    "path_list.sort()\n",
    "id0 = path_list[0][1]\n",
    "id1 = path_list[1][1]\n",
    "id2 = path_list[2][1]\n",
    "id3 = path_list[3][1]\n",
    "\n",
    "print (json.dumps(['id0', 'id1', 'id2']))"
   ]
  },
  {
   "cell_type": "code",
   "execution_count": null,
   "metadata": {},
   "outputs": [],
   "source": []
  }
 ],
 "metadata": {
  "kernelspec": {
   "display_name": "Python 3.9.7 ('mlLab')",
   "language": "python",
   "name": "python3"
  },
  "language_info": {
   "codemirror_mode": {
    "name": "ipython",
    "version": 3
   },
   "file_extension": ".py",
   "mimetype": "text/x-python",
   "name": "python",
   "nbconvert_exporter": "python",
   "pygments_lexer": "ipython3",
   "version": "3.9.7"
  },
  "orig_nbformat": 4,
  "vscode": {
   "interpreter": {
    "hash": "4f42256581bd7f4ea52213266ebdb916b4c629239493a7294ad0a465f242d435"
   }
  }
 },
 "nbformat": 4,
 "nbformat_minor": 2
}
